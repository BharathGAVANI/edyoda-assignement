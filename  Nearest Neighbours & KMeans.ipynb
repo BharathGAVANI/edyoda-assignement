{
 "cells": [
  {
   "cell_type": "code",
   "execution_count": 2,
   "id": "bd00f40f",
   "metadata": {},
   "outputs": [],
   "source": [
    "import pandas as pd"
   ]
  },
  {
   "cell_type": "code",
   "execution_count": null,
   "id": "2099b53a",
   "metadata": {},
   "outputs": [],
   "source": [
    "df = pd.read_csv('data.csv')"
   ]
  },
  {
   "cell_type": "code",
   "execution_count": null,
   "id": "1b915ca0",
   "metadata": {},
   "outputs": [],
   "source": [
    "#to display data\n",
    "df.head()"
   ]
  },
  {
   "cell_type": "code",
   "execution_count": null,
   "id": "1253501d",
   "metadata": {},
   "outputs": [],
   "source": [
    "#to check the null value\n",
    "df.isnull().sum()\n"
   ]
  },
  {
   "cell_type": "code",
   "execution_count": null,
   "id": "7964ee9e",
   "metadata": {},
   "outputs": [],
   "source": [
    "#data visulazition \n",
    "import matplotlib.pyplot as plt\n",
    "df['numeric_column'].hist()\n",
    "plt.xlabel('Value')\n",
    "plt.ylabel('Frequency')\n",
    "plt.title('Histogram of Numeric Column')\n",
    "plt.show()\n"
   ]
  },
  {
   "cell_type": "code",
   "execution_count": null,
   "id": "f8c3edac",
   "metadata": {},
   "outputs": [],
   "source": [
    "# scatter plot\n",
    "plt.scatter(df['numeric_column_1'], df['numeric_column_2'])\n",
    "plt.xlabel('Numeric Column 1')\n",
    "plt.ylabel('Numeric Column 2')\n",
    "plt.title('Scatter Plot of Numeric Column 1 vs. Numeric Column 2')\n",
    "plt.show()\n"
   ]
  },
  {
   "cell_type": "code",
   "execution_count": null,
   "id": "e274d7fb",
   "metadata": {},
   "outputs": [],
   "source": [
    "#bar chart \n",
    "sns.countplot(x='category_column', data=df)\n",
    "plt.xlabel('Category')\n",
    "plt.ylabel('Count')\n",
    "plt.title('Count of Categories')\n",
    "plt.xticks(rotation=90)\n",
    "plt.show()\n"
   ]
  },
  {
   "cell_type": "code",
   "execution_count": null,
   "id": "a9629875",
   "metadata": {},
   "outputs": [],
   "source": [
    "#heat map \n",
    "correlation_matrix = df.corr()\n",
    "sns.heatmap(correlation_matrix, annot=True, cmap='coolwarm')\n",
    "plt.title('Correlation Heatmap')\n",
    "plt.show()\n"
   ]
  },
  {
   "cell_type": "code",
   "execution_count": null,
   "id": "8049dc66",
   "metadata": {},
   "outputs": [],
   "source": [
    "from sklearn.model_selection import train_test_split\n"
   ]
  },
  {
   "cell_type": "code",
   "execution_count": null,
   "id": "a68bc8b9",
   "metadata": {},
   "outputs": [],
   "source": [
    "#splitting data into features\n",
    "X = df[['feature1', 'feature2', ...]]  # Features\n",
    "y = df['target']  # Target variable\n"
   ]
  },
  {
   "cell_type": "code",
   "execution_count": null,
   "id": "35f99482",
   "metadata": {},
   "outputs": [],
   "source": [
    "#training and testing data\n",
    "X_train, X_test, y_train, y_test = train_test_split(X, y, test_size=0.2, random_state=42)\n"
   ]
  },
  {
   "cell_type": "code",
   "execution_count": null,
   "id": "91675353",
   "metadata": {},
   "outputs": [],
   "source": [
    "#training tha model \n",
    "model.fit(X_train, y_train)\n",
    "accuracy = model.score(X_test, y_test)\n"
   ]
  },
  {
   "cell_type": "code",
   "execution_count": null,
   "id": "560445cd",
   "metadata": {},
   "outputs": [],
   "source": [
    "#im porting libraries\n",
    "from sklearn.model_selection import train_test_split\n",
    "from sklearn.neighbors import KNeighborsClassifier\n",
    "from sklearn.metrics import accuracy_score\n",
    "import matplotlib.pyplot as plt\n"
   ]
  },
  {
   "cell_type": "code",
   "execution_count": null,
   "id": "7d0cf426",
   "metadata": {},
   "outputs": [],
   "source": [
    "#creating the range of k-value \n",
    "k_values = list(range(1, max_k, 2))  # Replace max_k with your desired maximum value for k\n"
   ]
  },
  {
   "cell_type": "code",
   "execution_count": null,
   "id": "58d8d844",
   "metadata": {},
   "outputs": [],
   "source": [
    "#testing the k -value \n",
    "train_accuracy = []\n",
    "test_accuracy = []\n"
   ]
  },
  {
   "cell_type": "code",
   "execution_count": null,
   "id": "9e4f6d4a",
   "metadata": {},
   "outputs": [],
   "source": [
    "#looping throug the KNN  model\n",
    "for k in k_values:\n",
    "    knn = KNeighborsClassifier(n_neighbors=k)\n",
    "    knn.fit(X_train, y_train)\n",
    "    y_train_pred = knn.predict(X_train)\n",
    "    y_test_pred = knn.predict(X_test)\n",
    "    \n",
    "    train_accuracy.append(accuracy_score(y_train, y_train_pred))\n",
    "    test_accuracy.append(accuracy_score(y_test, y_test_pred))\n"
   ]
  },
  {
   "cell_type": "code",
   "execution_count": null,
   "id": "057c8b4e",
   "metadata": {},
   "outputs": [],
   "source": [
    "# visualization of trai data and teat data\n",
    "plt.figure(figsize=(10, 6))\n",
    "plt.plot(k_values, train_accuracy, label='Train Accuracy', marker='o')\n",
    "plt.plot(k_values, test_accuracy, label='Test Accuracy', marker='o')\n",
    "plt.xlabel('Number of Neighbors (k)')\n",
    "plt.ylabel('Accuracy')\n",
    "plt.title('K-Nearest Neighbors: Train vs. Test Accuracy')\n",
    "plt.xticks(k_values)\n",
    "plt.legend()\n",
    "plt.grid(True)\n",
    "plt.show()\n"
   ]
  },
  {
   "cell_type": "code",
   "execution_count": null,
   "id": "84c9236f",
   "metadata": {},
   "outputs": [],
   "source": []
  }
 ],
 "metadata": {
  "kernelspec": {
   "display_name": "Python 3 (ipykernel)",
   "language": "python",
   "name": "python3"
  },
  "language_info": {
   "codemirror_mode": {
    "name": "ipython",
    "version": 3
   },
   "file_extension": ".py",
   "mimetype": "text/x-python",
   "name": "python",
   "nbconvert_exporter": "python",
   "pygments_lexer": "ipython3",
   "version": "3.10.9"
  }
 },
 "nbformat": 4,
 "nbformat_minor": 5
}
