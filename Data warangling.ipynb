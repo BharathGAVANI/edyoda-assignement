{
 "cells": [
  {
   "cell_type": "code",
   "execution_count": null,
   "id": "3dcc4e04",
   "metadata": {},
   "outputs": [],
   "source": [
    "import pandas as pd\n",
    "url = \"https://raw.githubusercontent.com/SR1608/Datasets/main/coviddata.csv\"\n",
    "df = pd.read_csv(url)\n"
   ]
  },
  {
   "cell_type": "code",
   "execution_count": null,
   "id": "0e8482f1",
   "metadata": {},
   "outputs": [],
   "source": [
    "# Number of rows and columns\n",
    "num_rows, num_columns = df.shape\n",
    "print(f\"Number of rows: {num_rows}\")\n",
    "print(f\"Number of columns: {num_columns}\")\n"
   ]
  },
  {
   "cell_type": "code",
   "execution_count": null,
   "id": "565d7f34",
   "metadata": {},
   "outputs": [],
   "source": [
    "# Data types of columns\n",
    "column_data_types = df.dtypes\n",
    "print(\"Data types of columns:\")\n",
    "print(column_data_types)\n"
   ]
  },
  {
   "cell_type": "code",
   "execution_count": null,
   "id": "738f1eba",
   "metadata": {},
   "outputs": [],
   "source": [
    "# Information about the DataFrame\n",
    "df_info = df.info()\n",
    "df_description = df.describe()\n"
   ]
  },
  {
   "cell_type": "code",
   "execution_count": null,
   "id": "5360bea1",
   "metadata": {},
   "outputs": [],
   "source": [
    "unique_location_count = df['location'].nunique()\n",
    "print(f\"Count of unique values in 'location' column: {unique_location_count}\")\n"
   ]
  },
  {
   "cell_type": "code",
   "execution_count": null,
   "id": "a1af7c9a",
   "metadata": {},
   "outputs": [],
   "source": [
    "continent_with_max_frequency = df['continent'].value_counts().idxmax()\n",
    "max_frequency = df['continent'].value_counts().max()\n",
    "print(f\"Continent with maximum frequency: {continent_with_max_frequency} ({max_frequency} occurrences)\")\n"
   ]
  },
  {
   "cell_type": "code",
   "execution_count": null,
   "id": "ebee4aea",
   "metadata": {},
   "outputs": [],
   "source": [
    "max_total_cases = df['total_cases'].max()\n",
    "mean_total_cases = df['total_cases'].mean()\n",
    "print(f\"Maximum total cases: {max_total_cases}\")\n",
    "print(f\"Mean total cases: {mean_total_cases}\")\n"
   ]
  },
  {
   "cell_type": "code",
   "execution_count": null,
   "id": "9f25a63f",
   "metadata": {},
   "outputs": [],
   "source": [
    "quartiles = df['total_deaths'].quantile([0.25, 0.5, 0.75])\n",
    "print(\"Quartile values for 'total_deaths':\")\n",
    "print(quartiles)\n"
   ]
  },
  {
   "cell_type": "code",
   "execution_count": null,
   "id": "b864f54c",
   "metadata": {},
   "outputs": [],
   "source": [
    "continent_with_max_hdi = df[df['human_development_index'] == df['human_development_index'].max()]['continent'].values[0]\n",
    "max_hdi = df['human_development_index'].max()\n",
    "print(f\"Continent with maximum human development index: {continent_with_max_hdi} ({max_hdi})\")\n"
   ]
  },
  {
   "cell_type": "code",
   "execution_count": null,
   "id": "352e0f31",
   "metadata": {},
   "outputs": [],
   "source": [
    "continent_with_min_gdp = df[df['gdp_per_capita'] == df['gdp_per_capita'].min()]['continent'].values[0]\n",
    "min_gdp = df['gdp_per_capita'].min()\n",
    "print(f\"Continent with minimum GDP per capita: {continent_with_min_gdp} ({min_gdp})\")\n"
   ]
  },
  {
   "cell_type": "code",
   "execution_count": null,
   "id": "ad2b85ec",
   "metadata": {},
   "outputs": [],
   "source": [
    "# List of columns to keep\n",
    "columns_to_keep = ['continent', 'location', 'date', 'total_cases', 'total_deaths', 'gdp_per_capita', 'human_development_index']\n",
    "\n",
    "# Filter the DataFrame to include only the specified columns\n",
    "df = df[columns_to_keep]\n"
   ]
  },
  {
   "cell_type": "code",
   "execution_count": null,
   "id": "09c38620",
   "metadata": {},
   "outputs": [],
   "source": [
    "# Remove duplicate rows\n",
    "df = df.drop_duplicates()\n"
   ]
  },
  {
   "cell_type": "code",
   "execution_count": null,
   "id": "8ae6eaab",
   "metadata": {},
   "outputs": [],
   "source": [
    "# Find missing values in all columns\n",
    "missing_values = df.isnull().sum()\n",
    "print(\"Missing values in each column:\")\n",
    "print(missing_values)\n"
   ]
  },
  {
   "cell_type": "code",
   "execution_count": null,
   "id": "4e1c7a14",
   "metadata": {},
   "outputs": [],
   "source": [
    "# Remove rows with missing 'continent' values\n",
    "df = df.dropna(subset=['continent'])\n"
   ]
  },
  {
   "cell_type": "code",
   "execution_count": null,
   "id": "f8e568c8",
   "metadata": {},
   "outputs": [],
   "source": [
    "# Fill missing values with 0 for numeric columns\n",
    "numeric_columns = ['total_cases', 'total_deaths', 'gdp_per_capita', 'human_development_index']\n",
    "df[numeric_columns] = df[numeric_columns].fillna(0)\n"
   ]
  },
  {
   "cell_type": "code",
   "execution_count": null,
   "id": "5599dc2d",
   "metadata": {},
   "outputs": [],
   "source": [
    "# Convert 'date' column to datetime format\n",
    "df['date'] = pd.to_datetime(df['date'])\n"
   ]
  },
  {
   "cell_type": "code",
   "execution_count": null,
   "id": "9eab5506",
   "metadata": {},
   "outputs": [],
   "source": [
    "# Create a new column 'month' by extracting the month from the 'date' column\n",
    "df['month'] = df['date'].dt.month\n"
   ]
  },
  {
   "cell_type": "code",
   "execution_count": null,
   "id": "b5969489",
   "metadata": {},
   "outputs": [],
   "source": [
    "# Group by 'continent' and find max values in each group\n",
    "df_groupby = df.groupby('continent').max().reset_index()\n"
   ]
  },
  {
   "cell_type": "code",
   "execution_count": null,
   "id": "c476fc75",
   "metadata": {},
   "outputs": [],
   "source": [
    "# Create the new feature 'total_deaths_to_total_cases'\n",
    "df['total_deaths_to_total_cases'] = df['total_deaths'] / df['total_cases']\n"
   ]
  },
  {
   "cell_type": "code",
   "execution_count": null,
   "id": "69c15a99",
   "metadata": {},
   "outputs": [],
   "source": [
    "import seaborn as sns\n",
    "import matplotlib.pyplot as plt\n",
    "plt.figure(figsize=(10, 6))\n",
    "sns.distplot(df['gdp_per_capita'], kde=False, bins=30)\n",
    "plt.title('Histogram of GDP per Capita')\n",
    "plt.xlabel('GDP per Capita')\n",
    "plt.ylabel('Frequency')\n",
    "plt.show()\n"
   ]
  },
  {
   "cell_type": "code",
   "execution_count": null,
   "id": "4227a5a5",
   "metadata": {},
   "outputs": [],
   "source": [
    "# Scatter plot\n",
    "plt.figure(figsize=(10, 6))\n",
    "sns.scatterplot(x='gdp_per_capita', y='total_cases', data=df)\n",
    "plt.title('Scatter Plot of Total Cases vs GDP per Capita')\n",
    "plt.xlabel('GDP per Capita')\n",
    "plt.ylabel('Total Cases')\n",
    "plt.show()\n"
   ]
  },
  {
   "cell_type": "code",
   "execution_count": null,
   "id": "823fc8ef",
   "metadata": {},
   "outputs": [],
   "source": [
    "# Bar plot\n",
    "plt.figure(figsize=(12, 6))\n",
    "sns.catplot(x='continent', y='total_cases', data=df_groupby, kind='bar', height=6, aspect=2)\n",
    "plt.title('Bar Plot of Total Cases by Continent')\n",
    "plt.xlabel('Continent')\n",
    "plt.ylabel('Total Cases')\n",
    "plt.xticks(rotation=45)\n",
    "plt.show()\n"
   ]
  },
  {
   "cell_type": "code",
   "execution_count": null,
   "id": "90bf530b",
   "metadata": {},
   "outputs": [],
   "source": [
    "# Save df_groupby to a CSV file\n",
    "df_groupby.to_csv('df_groupby.csv', index=False)\n"
   ]
  },
  {
   "cell_type": "code",
   "execution_count": null,
   "id": "04606679",
   "metadata": {},
   "outputs": [],
   "source": []
  }
 ],
 "metadata": {
  "kernelspec": {
   "display_name": "Python 3 (ipykernel)",
   "language": "python",
   "name": "python3"
  },
  "language_info": {
   "codemirror_mode": {
    "name": "ipython",
    "version": 3
   },
   "file_extension": ".py",
   "mimetype": "text/x-python",
   "name": "python",
   "nbconvert_exporter": "python",
   "pygments_lexer": "ipython3",
   "version": "3.10.9"
  }
 },
 "nbformat": 4,
 "nbformat_minor": 5
}
