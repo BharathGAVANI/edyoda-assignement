{
 "cells": [
  {
   "cell_type": "code",
   "execution_count": 1,
   "id": "b1d5fa29",
   "metadata": {
    "collapsed": true
   },
   "outputs": [
    {
     "name": "stdout",
     "output_type": "stream",
     "text": [
      "Requirement already satisfied: scikit-learn in c:\\users\\lenovo l450\\documents\\custom office templates\\lib\\site-packages (1.2.1)\n",
      "Requirement already satisfied: joblib>=1.1.1 in c:\\users\\lenovo l450\\documents\\custom office templates\\lib\\site-packages (from scikit-learn) (1.1.1)\n",
      "Requirement already satisfied: numpy>=1.17.3 in c:\\users\\lenovo l450\\documents\\custom office templates\\lib\\site-packages (from scikit-learn) (1.23.5)\n",
      "Requirement already satisfied: threadpoolctl>=2.0.0 in c:\\users\\lenovo l450\\documents\\custom office templates\\lib\\site-packages (from scikit-learn) (2.2.0)\n",
      "Requirement already satisfied: scipy>=1.3.2 in c:\\users\\lenovo l450\\documents\\custom office templates\\lib\\site-packages (from scikit-learn) (1.10.0)\n",
      "Note: you may need to restart the kernel to use updated packages.\n"
     ]
    }
   ],
   "source": [
    "import pandas as pd \n",
    "df= pd.read_cvs(\"your_dataset.cvs\")\n",
    "pip install scikit-learn\n"
   ]
  },
  {
   "cell_type": "code",
   "execution_count": 2,
   "id": "db6328aa",
   "metadata": {},
   "outputs": [
    {
     "name": "stdout",
     "output_type": "stream",
     "text": [
      "Feature Names: ['sepal length (cm)', 'sepal width (cm)', 'petal length (cm)', 'petal width (cm)']\n",
      "Target Names: ['setosa' 'versicolor' 'virginica']\n",
      "First 5 Samples:\n",
      "Sample 1: Features=[5.1 3.5 1.4 0.2], Target=0 (setosa)\n",
      "Sample 2: Features=[4.9 3.  1.4 0.2], Target=0 (setosa)\n",
      "Sample 3: Features=[4.7 3.2 1.3 0.2], Target=0 (setosa)\n",
      "Sample 4: Features=[4.6 3.1 1.5 0.2], Target=0 (setosa)\n",
      "Sample 5: Features=[5.  3.6 1.4 0.2], Target=0 (setosa)\n"
     ]
    }
   ],
   "source": [
    "from sklearn.datasets import load_iris\n",
    "from sklearn.model_selection import train_test_split\n",
    "from sklearn.tree import DecisionTreeClassifier\n",
    "from sklearn.metrics import accuracy_score, classification_report\n",
    "\n",
    "iris = load_iris()\n",
    "X = iris.data  \n",
    "y = iris.target  \n",
    "X_train, X_test, y_train, y_test = train_test_split(X, y, test_size=0.2, random_state=42)\n",
    "feature_names = iris.feature_names\n",
    "target_names = iris.target_names\n",
    "print(\"Feature Names:\", feature_names)\n",
    "print(\"Target Names:\", target_names)\n",
    "print(\"First 5 Samples:\")\n",
    "for i in range(5):\n",
    "    print(f\"Sample {i + 1}: Features={X[i]}, Target={y[i]} ({target_names[y[i]]})\")\n",
    "clf = DecisionTreeClassifier(random_state=42)\n",
    "\n"
   ]
  },
  {
   "cell_type": "code",
   "execution_count": null,
   "id": "59208300",
   "metadata": {},
   "outputs": [],
   "source": []
  }
 ],
 "metadata": {
  "kernelspec": {
   "display_name": "Python 3 (ipykernel)",
   "language": "python",
   "name": "python3"
  },
  "language_info": {
   "codemirror_mode": {
    "name": "ipython",
    "version": 3
   },
   "file_extension": ".py",
   "mimetype": "text/x-python",
   "name": "python",
   "nbconvert_exporter": "python",
   "pygments_lexer": "ipython3",
   "version": "3.10.9"
  }
 },
 "nbformat": 4,
 "nbformat_minor": 5
}
