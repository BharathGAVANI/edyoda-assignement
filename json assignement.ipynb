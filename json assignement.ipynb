{
 "cells": [
  {
   "cell_type": "code",
   "execution_count": 1,
   "id": "be5c3912",
   "metadata": {},
   "outputs": [
    {
     "name": "stdout",
     "output_type": "stream",
     "text": [
      "JSON file created successfully.\n"
     ]
    }
   ],
   "source": [
    "import json\n",
    "employee_data = [\n",
    "    {\n",
    "        \"Name\": \"bharath\",\n",
    "        \"DOB\": \"2000-04-15\",\n",
    "        \"Height\": 173,\n",
    "        \"City\": \"hyderabad\",\n",
    "        \"State\": \"telangana\"\n",
    "    },\n",
    "    {\n",
    "        \"Name\": \"chandu\",\n",
    "        \"DOB\": \"2001-02-14\",\n",
    "        \"Height\": 162,\n",
    "        \"City\": \"warangal\",\n",
    "        \"State\": \"telangana\"\n",
    "    },\n",
    "    {\n",
    "        \"Name\": \"anil\",\n",
    "        \"DOB\": \"1999-12-13\",\n",
    "        \"Height\": 180,\n",
    "        \"City\": \"hyderabad\",\n",
    "        \"State\": \"telangana\"\n",
    "    },\n",
    "    {\n",
    "        \"Name\": \"sudheer\",\n",
    "        \"DOB\": \"2000-12-12\",\n",
    "        \"Height\": 168,\n",
    "        \"City\": \"khammam\",\n",
    "        \"State\": \"telangana\"\n",
    "    },\n",
    "    {\n",
    "        \"Name\": \"hema\",\n",
    "        \"DOB\": \"2001-09-23\",\n",
    "        \"Height\": 155,\n",
    "        \"City\": \"hyderabad\",\n",
    "        \"State\": \"telangana\"\n",
    "    }\n",
    "]\n",
    "\n",
    "with open('employee.json', 'w') as file:\n",
    "    json.dump(employee_data, file, indent=4)\n",
    "\n",
    "print(\"JSON file created successfully.\")\n"
   ]
  },
  {
   "cell_type": "code",
   "execution_count": null,
   "id": "f3f7f7f1",
   "metadata": {},
   "outputs": [],
   "source": [
    "import json\n",
    "class Employee:\n",
    "    def __init__(self, name, dob, height, city, state):\n",
    "        self.name = name\n",
    "        self.dob = dob\n",
    "        self.height = height\n",
    "        self.city = city\n",
    "        self.state = state\n",
    "with open('employee.json') as file:\n",
    "    data = json.load(file)\n",
    "employees_list = []\n",
    "for emp in data['employees']:\n",
    "    name = emp['Name']\n",
    "    dob = emp['DOB']\n",
    "    height = emp['Height']\n",
    "    city = emp['City']\n",
    "    state = emp['State']\n",
    "    employee = Employee(name, dob, height, city, state)\n",
    "    employees_list.append(employee)\n",
    "for employee in employees_list:\n",
    "    print(f\"Name: {employee.name}\")\n",
    "    print(f\"DOB: {employee.dob}\")\n",
    "    print(f\"Height: {employee.height}\")\n",
    "    print(f\"City: {employee.city}\")\n",
    "    print(f\"State: {employee.state}\")\n",
    "    print()\n"
   ]
  }
 ],
 "metadata": {
  "kernelspec": {
   "display_name": "Python 3 (ipykernel)",
   "language": "python",
   "name": "python3"
  },
  "language_info": {
   "codemirror_mode": {
    "name": "ipython",
    "version": 3
   },
   "file_extension": ".py",
   "mimetype": "text/x-python",
   "name": "python",
   "nbconvert_exporter": "python",
   "pygments_lexer": "ipython3",
   "version": "3.10.9"
  }
 },
 "nbformat": 4,
 "nbformat_minor": 5
}
