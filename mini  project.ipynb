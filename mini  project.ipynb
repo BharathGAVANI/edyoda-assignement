{
 "cells": [
  {
   "cell_type": "code",
   "execution_count": null,
   "id": "ebf3a0da",
   "metadata": {},
   "outputs": [],
   "source": [
    "import random\n",
    "\n",
    "def read_questions_from_file(filename):\n",
    "    with open(filename, \"r\") as file:\n",
    "        lines = file.readlines()\n",
    "    return [line.strip().split(\"|\") for line in lines]\n",
    "\n",
    "def generate_quiz(questions, num_questions=5):\n",
    "    random.shuffle(questions)\n",
    "    return questions[:num_questions]\n",
    "def present_quiz(quiz):\n",
    "    score = 0\n",
    "    for i, (question, answer) in enumerate(quiz, 1):\n",
    "        print(f\"Q{i}: {question}\")\n",
    "        user_answer = input(\"Your answer: \").strip()\n",
    "        if user_answer.lower() == answer.lower():\n",
    "            score += 1\n",
    "    return score\n",
    "def read_key(filename):\n",
    "    with open(filename, \"r\") as file:\n",
    "        return [line.strip() for line in file.readlines()]\n",
    "def grade_quiz(quiz, key):\n",
    "    total_questions = len(quiz)\n",
    "    correct_answers = sum(1 for user_answer, (_, correct_answer) in zip(quiz, key) if user_answer.lower() == correct_answer.lower())\n",
    "    return correct_answers, total_questions\n",
    "def main():\n",
    "    question_file = \"questions.txt\"\n",
    "    key_file = \"key.txt\"\n",
    "    num_questions_per_quiz = 5\n",
    "\n",
    "    questions = read_questions_from_file(question_file)\n",
    "    key = read_key(key_file)\n",
    "\n",
    "    quiz = generate_quiz(questions, num_questions_per_quiz)\n",
    "    score = present_quiz(quiz)\n",
    "    correct_answers, total_questions = grade_quiz([user_answer for _, user_answer in quiz], key)\n",
    "\n",
    "    print(f\"\\nYou scored {score}/{num_questions_per_quiz}\")\n",
    "    print(f\"Total correct answers: {correct_answers}/{total_questions}\")\n",
    "\n",
    "if __name__ == \"__main__\":\n",
    "    main()\n"
   ]
  }
 ],
 "metadata": {
  "kernelspec": {
   "display_name": "Python 3 (ipykernel)",
   "language": "python",
   "name": "python3"
  },
  "language_info": {
   "codemirror_mode": {
    "name": "ipython",
    "version": 3
   },
   "file_extension": ".py",
   "mimetype": "text/x-python",
   "name": "python",
   "nbconvert_exporter": "python",
   "pygments_lexer": "ipython3",
   "version": "3.10.9"
  }
 },
 "nbformat": 4,
 "nbformat_minor": 5
}
