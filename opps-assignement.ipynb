{
 "cells": [
  {
   "cell_type": "code",
   "execution_count": 4,
   "id": "f461633c",
   "metadata": {},
   "outputs": [
    {
     "data": {
      "text/plain": [
       "35"
      ]
     },
     "execution_count": 4,
     "metadata": {},
     "output_type": "execute_result"
    }
   ],
   "source": [
    "#challenge-1\n",
    "class point :\n",
    "    def __init__(self,x,y,z):\n",
    "        self.x=x\n",
    "        self.y=y\n",
    "        self.z=z\n",
    "    def sqsum(self):\n",
    "        return self.x**2+self.y**2+self.z**2\n",
    "obj=point(1,3,5)\n",
    "obj.sqsum()"
   ]
  },
  {
   "cell_type": "code",
   "execution_count": 5,
   "id": "e23e25e9",
   "metadata": {},
   "outputs": [
    {
     "name": "stdout",
     "output_type": "stream",
     "text": [
      "104\n",
      "84\n",
      "940\n",
      "9.4\n"
     ]
    }
   ],
   "source": [
    "#challenge-2\n",
    "class Calculator:\n",
    "    def __init__(self, num1, num2):\n",
    "        self.num1 = num1\n",
    "        self.num2 = num2\n",
    "\n",
    "    def add(self):\n",
    "        return self.num1 + self.num2\n",
    "\n",
    "    def subtract(self):\n",
    "        return self.num2 - self.num1\n",
    "\n",
    "    def multiply(self):\n",
    "        return self.num1 * self.num2\n",
    "\n",
    "    def divide(self):\n",
    "        return self.num2 / self.num1\n",
    "obj = Calculator(10, 94)\n",
    "\n",
    "print(obj.add())       \n",
    "print(obj.subtract())  \n",
    "print(obj.multiply())  \n",
    "print(obj.divide())    \n"
   ]
  },
  {
   "cell_type": "code",
   "execution_count": 6,
   "id": "f39f7eb4",
   "metadata": {},
   "outputs": [
    {
     "name": "stdout",
     "output_type": "stream",
     "text": [
      "Bharath\n",
      "12345\n"
     ]
    }
   ],
   "source": [
    "#challenge-3\n",
    "class Student:\n",
    "    def __init__(self):\n",
    "        self.name = None\n",
    "        self.rollNumber = None\n",
    "\n",
    "    def setName(self, name):\n",
    "        self.name = name\n",
    "\n",
    "    def getName(self):\n",
    "        return self.name\n",
    "\n",
    "    def setRollNumber(self, rollNumber):\n",
    "        self.rollNumber = rollNumber\n",
    "\n",
    "    def getRollNumber(self):\n",
    "        return self.rollNumber\n",
    "\n",
    "\n",
    "student = Student()\n",
    "\n",
    "student.setName(\"Bharath\")\n",
    "student.setRollNumber(12345)\n",
    "\n",
    "print(student.getName())          \n",
    "print(student.getRollNumber())    \n"
   ]
  },
  {
   "cell_type": "code",
   "execution_count": 7,
   "id": "a7f3c6f2",
   "metadata": {},
   "outputs": [
    {
     "name": "stdout",
     "output_type": "stream",
     "text": [
      "Ashish\n",
      "5000\n",
      "Ashish\n",
      "5000\n",
      "5\n"
     ]
    }
   ],
   "source": [
    "#challenge-4\n",
    "class Account:\n",
    "    def __init__(self, title, balance):\n",
    "        self.title = title\n",
    "        self.balance = balance\n",
    "class SavingsAccount(Account):\n",
    "    def __init__(self, title, balance, interestRate):\n",
    "        super().__init__(title, balance)\n",
    "        self.interestRate = interestRate\n",
    "account = Account(\"Ashish\", 5000)\n",
    "savings_account = SavingsAccount(\"Ashish\", 5000, 5)\n",
    "print(account.title)      \n",
    "print(account.balance)    \n",
    "\n",
    "print(savings_account.title)         \n",
    "print(savings_account.balance)      \n",
    "print(savings_account.interestRate)  \n"
   ]
  },
  {
   "cell_type": "code",
   "execution_count": 13,
   "id": "ad314f0f",
   "metadata": {},
   "outputs": [
    {
     "name": "stdout",
     "output_type": "stream",
     "text": [
      "2500\n",
      "2000\n",
      "100.0\n"
     ]
    }
   ],
   "source": [
    "class Account:\n",
    "    def __init__(self, title=None, balance=0):\n",
    "        self.title = title\n",
    "        self.balance = balance\n",
    "    def withdrawal(self, amount):\n",
    "        self.balance -= amount\n",
    "    def deposit(self, amount):\n",
    "        self.balance += amount\n",
    "    def getBalance(self):\n",
    "        return self.balance\n",
    "class SavingsAccount(Account):\n",
    "    def __init__(self, title=None, balance=0, interestRate=0):\n",
    "        super().__init__(title, balance)\n",
    "        self.interestRate = interestRate\n",
    "    def interestAmount(self):\n",
    "        return self.balance * (self.interestRate / 100)\n",
    "\n",
    "demo1 = SavingsAccount(\"Ashish\", 2000, 5)\n",
    "demo1.deposit(500)\n",
    "print(demo1.getBalance())        \n",
    "\n",
    "demo1.withdrawal(500)\n",
    "print(demo1.getBalance())        \n",
    "\n",
    "print(demo1.interestAmount())   \n"
   ]
  },
  {
   "cell_type": "code",
   "execution_count": null,
   "id": "7420e174",
   "metadata": {},
   "outputs": [],
   "source": []
  }
 ],
 "metadata": {
  "kernelspec": {
   "display_name": "Python 3 (ipykernel)",
   "language": "python",
   "name": "python3"
  },
  "language_info": {
   "codemirror_mode": {
    "name": "ipython",
    "version": 3
   },
   "file_extension": ".py",
   "mimetype": "text/x-python",
   "name": "python",
   "nbconvert_exporter": "python",
   "pygments_lexer": "ipython3",
   "version": "3.10.9"
  }
 },
 "nbformat": 4,
 "nbformat_minor": 5
}
