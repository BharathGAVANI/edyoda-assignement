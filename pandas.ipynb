{
 "cells": [
  {
   "cell_type": "code",
   "execution_count": null,
   "id": "27bb414c",
   "metadata": {},
   "outputs": [],
   "source": [
    "import pandas as pd\n",
    "url = 'https://raw.githubusercontent.com/justmarkham/DAT8/master/data/u.user'\n",
    "users = pd.read_csv(url, sep='|', index_col='user_id')\n",
    "\n",
    "print(users.head())\n",
    "\n"
   ]
  },
  {
   "cell_type": "code",
   "execution_count": null,
   "id": "813cb56f",
   "metadata": {},
   "outputs": [],
   "source": [
    "#see first 10 and last 10 entires\n",
    "print(users.head(10))\n",
    "print(users.tail(10))"
   ]
  },
  {
   "cell_type": "code",
   "execution_count": null,
   "id": "a3ce03ff",
   "metadata": {},
   "outputs": [],
   "source": [
    "# what is the number of observations\n",
    "num_observations = users.shape[0]\n",
    "\n",
    "print(\"Number of observations:\", num_observations)\n"
   ]
  },
  {
   "cell_type": "code",
   "execution_count": null,
   "id": "6c93bd35",
   "metadata": {},
   "outputs": [],
   "source": [
    "#what is the number of columns\n",
    "num_columns = users.shape[1]\n",
    "\n",
    "print(\"Number of columns:\", num_columns)\n"
   ]
  },
  {
   "cell_type": "code",
   "execution_count": null,
   "id": "a2da8180",
   "metadata": {},
   "outputs": [],
   "source": [
    "# what is the names of all columns\n",
    "column_names = users.columns\n",
    "\n",
    "print(\"Column names:\", column_names)\n"
   ]
  },
  {
   "cell_type": "code",
   "execution_count": null,
   "id": "200105bc",
   "metadata": {},
   "outputs": [],
   "source": [
    "# how is the data base index\n",
    "specific_user = users.loc['user_id_value']\n"
   ]
  },
  {
   "cell_type": "code",
   "execution_count": null,
   "id": "5c5adeed",
   "metadata": {},
   "outputs": [],
   "source": [
    "# what is the data types of each column\n",
    "column_data_types = users.dtypes\n",
    "\n",
    "print(\"Data types of each column:\")\n",
    "print(column_data_types)\n"
   ]
  },
  {
   "cell_type": "code",
   "execution_count": null,
   "id": "e60c5382",
   "metadata": {},
   "outputs": [],
   "source": [
    "# Print the 'occupation' column\n",
    "occupation_column = users['occupation']\n",
    "\n",
    "print(occupation_column)\n"
   ]
  },
  {
   "cell_type": "code",
   "execution_count": null,
   "id": "02fb5533",
   "metadata": {},
   "outputs": [],
   "source": [
    "# Get the number of different occupations\n",
    "num_occupations = users['occupation'].nunique()\n",
    "\n",
    "print(\"Number of different occupations:\", num_occupations)\n"
   ]
  },
  {
   "cell_type": "code",
   "execution_count": null,
   "id": "44dae330",
   "metadata": {},
   "outputs": [],
   "source": [
    "# what is the most frequent occupation\n",
    "most_frequent_occupation = users['occupation'].value_counts().idxmax()\n",
    "\n",
    "print(\"Most frequent occupation:\", most_frequent_occupation)\n"
   ]
  },
  {
   "cell_type": "code",
   "execution_count": null,
   "id": "a5261b00",
   "metadata": {},
   "outputs": [],
   "source": [
    "#dataframe information\n",
    "users.info()\n"
   ]
  },
  {
   "cell_type": "code",
   "execution_count": null,
   "id": "acb37964",
   "metadata": {},
   "outputs": [],
   "source": []
  }
 ],
 "metadata": {
  "kernelspec": {
   "display_name": "Python 3 (ipykernel)",
   "language": "python",
   "name": "python3"
  },
  "language_info": {
   "codemirror_mode": {
    "name": "ipython",
    "version": 3
   },
   "file_extension": ".py",
   "mimetype": "text/x-python",
   "name": "python",
   "nbconvert_exporter": "python",
   "pygments_lexer": "ipython3",
   "version": "3.10.9"
  }
 },
 "nbformat": 4,
 "nbformat_minor": 5
}
